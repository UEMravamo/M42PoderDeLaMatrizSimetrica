{
 "cells": [
  {
   "cell_type": "code",
   "execution_count": 3,
   "id": "98ae54a8-9d63-495d-9d65-dae0c653c9bc",
   "metadata": {},
   "outputs": [
    {
     "name": "stdin",
     "output_type": "stream",
     "text": [
      "Dime el exponente:  8\n"
     ]
    },
    {
     "name": "stdout",
     "output_type": "stream",
     "text": [
      "A:\n",
      "[[1 2 3]\n",
      " [4 5 6]\n",
      " [7 8 9]]\n",
      "A elevado a 8\n",
      "[[ 510008400  626654232  743300064]\n",
      " [1154967822 1419124617 1683281412]\n",
      " [1799927244 2211595002 2623262760]]\n"
     ]
    }
   ],
   "source": [
    "import numpy as np\n",
    "from numpy.linalg import matrix_power\n",
    "#Matriz A simtetrica\n",
    "A = np.array([[1, 2, 3], \n",
    "              [4, 5, 6], \n",
    "              [7, 8, 9]])\n",
    "k = int(input(\"Dime el exponente: \"))\n",
    "\n",
    "#numpy, linalg.matrix_power(a, n) a es la matriz y k el exponente, \n",
    "#source:https://numpy.org/doc/2.1/reference/generated/numpy.linalg.matrix_power.html\n",
    "result = np.linalg.matrix_power(A, k)\n",
    "  #Imprimir resultados\n",
    "print(\"A:\")\n",
    "print(A)\n",
    "print(f\"A elevado a {k}\")\n",
    "print(result)"
   ]
  },
  {
   "cell_type": "code",
   "execution_count": null,
   "id": "0133fffd-6709-4487-bc49-959f996e676a",
   "metadata": {},
   "outputs": [],
   "source": []
  }
 ],
 "metadata": {
  "kernelspec": {
   "display_name": "Python 3 (ipykernel)",
   "language": "python",
   "name": "python3"
  },
  "language_info": {
   "codemirror_mode": {
    "name": "ipython",
    "version": 3
   },
   "file_extension": ".py",
   "mimetype": "text/x-python",
   "name": "python",
   "nbconvert_exporter": "python",
   "pygments_lexer": "ipython3",
   "version": "3.10.7"
  }
 },
 "nbformat": 4,
 "nbformat_minor": 5
}
