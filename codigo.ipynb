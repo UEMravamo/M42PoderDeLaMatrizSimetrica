{
 "cells": [
  {
   "cell_type": "code",
   "execution_count": 3,
   "id": "98ae54a8-9d63-495d-9d65-dae0c653c9bc",
   "metadata": {},
   "outputs": [
    {
     "name": "stdin",
     "output_type": "stream",
     "text": [
      "Dime el exponente: 3\n"
     ]
    },
    {
     "name": "stdout",
     "output_type": "stream",
     "text": [
      "A:\n",
      "[1, 2, 3]\n",
      "[4, 5, 6]\n",
      "[7, 8, 9]\n",
      "A elevado a 3\n",
      "[468, 576, 684]\n",
      "[1062, 1305, 1548]\n",
      "[1656, 2034, 2412]\n"
     ]
    }
   ],
   "source": [
    "A = [[1, 2, 3], [4, 5, 6], [7, 8, 9]]\n",
    "n = len(A)  #Matriz A fila\n",
    "\n",
    "k = int(input(\"Dime el exponente:\"))\n",
    "\n",
    "result = [[0] * n for _ in range(n)]\n",
    "\n",
    "#Result=A\n",
    "for i in range(n):\n",
    "    for j in range(n):\n",
    "        result[i][j] = A[i][j]\n",
    "\n",
    "  #3Multiplicar por si mismo tantc\n",
    "for _ in range(k - 1):\n",
    "    temp = [[0] * n for _ in range(n)]\n",
    "    for i in range(n):\n",
    "        for j in range(n):\n",
    "            suma = 0\n",
    "            for m in range(n):\n",
    "                suma = suma + result[i][m] * A[m][j]\n",
    "            temp[i][j] = suma\n",
    "    result = temp\n",
    "\n",
    "#Imprimir resultados\n",
    "print(\"A:\")\n",
    "for row in A:\n",
    "    print(row)\n",
    "print(f\"A elevado a {k}\")\n",
    "for row in result:\n",
    "    print(row)\n"
   ]
  },
  {
   "cell_type": "code",
   "execution_count": null,
   "id": "0133fffd-6709-4487-bc49-959f996e676a",
   "metadata": {},
   "outputs": [],
   "source": []
  }
 ],
 "metadata": {
  "kernelspec": {
   "display_name": "Python 3 (ipykernel)",
   "language": "python",
   "name": "python3"
  },
  "language_info": {
   "codemirror_mode": {
    "name": "ipython",
    "version": 3
   },
   "file_extension": ".py",
   "mimetype": "text/x-python",
   "name": "python",
   "nbconvert_exporter": "python",
   "pygments_lexer": "ipython3",
   "version": "3.10.7"
  }
 },
 "nbformat": 4,
 "nbformat_minor": 5
}
