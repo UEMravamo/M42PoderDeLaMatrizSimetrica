{
 "cells": [
  {
   "cell_type": "code",
   "execution_count": 9,
   "id": "0c795b05-1b24-4fa9-83a8-f990bfb87aab",
   "metadata": {},
   "outputs": [
    {
     "name": "stdin",
     "output_type": "stream",
     "text": [
      "Dime el exponente: 4\n"
     ]
    },
    {
     "name": "stdout",
     "output_type": "stream",
     "text": [
      "A:\n",
      "[1, 2, 3]\n",
      "[2, 5, 0]\n",
      "[3, 0, 5]\n",
      "A elevado a 4:\n",
      "[664, 624, 936]\n",
      "[624, 1021, 594]\n",
      "[936, 594, 1516]\n"
     ]
    }
   ],
   "source": [
    "def mult_matrices(A,B ,n): #Para cada elemento en la matriz C, calcula la suma de los productos de las filas de A y las columnas de B.\n",
    "    C = [[0] * n for _ in range(n)]\n",
    "    for i in range(n):\n",
    "        for j in range(n):\n",
    "            suma = 0\n",
    "            for k in range(n):\n",
    "                suma= suma+A[i][k]* B[k][j]\n",
    "            C[i][j] = suma\n",
    "    return C\n",
    "\n",
    "def simplificar_exponente(A,k,n):\n",
    "    if k ==0:#si elevas una matriz a 0 da la identidad\n",
    "        return [[1 if i == j else 0 for j in range(n)] for i in range(n)]\n",
    "    elif k ==1:#si elevas una matriz a 1 ppues obtienes la misma\n",
    "        return A\n",
    "    elif k %2 == 0:#si k(exponente) es par\n",
    "        parte = simplificar_exponente(A, k//2,n)\n",
    "        return mult_matrices(parte,parte, n)\n",
    "    else:#si k(exponente) es impar\n",
    "        return mult_matrices(A,  simplificar_exponente(A,k-1,n),n)\n",
    "# Ejemplo A^5, pues se haria la simplificacion del exponente A^5->A^1*A^4->(A^2*A^2)*A^1\n",
    "# Es decir, si k es par se calcula  A^^k/2 * A^k/2. Y si es impar A * A^k-1\n",
    "\n",
    "\n",
    "A = [[1, 2,3], #Matriz simetrica\n",
    "     [2, 5, 0], \n",
    "     [3, 0,  5]]\n",
    "\n",
    "n = len(A)#filas de A\n",
    "k = int(input(\"Dime el exponente:\"))#hay que ingresar el exponente\n",
    "#printeamos A\n",
    "print(\"A:\")\n",
    "for row in A:\n",
    "    print(row)\n",
    "\n",
    "result = simplificar_exponente(A, k, n)\n",
    "#printeamos el resultado\n",
    "print(f\"A elevado a {k}:\")\n",
    "for row in result:\n",
    "    print(row)\n"
   ]
  }
 ],
 "metadata": {
  "kernelspec": {
   "display_name": "Python 3 (ipykernel)",
   "language": "python",
   "name": "python3"
  },
  "language_info": {
   "codemirror_mode": {
    "name": "ipython",
    "version": 3
   },
   "file_extension": ".py",
   "mimetype": "text/x-python",
   "name": "python",
   "nbconvert_exporter": "python",
   "pygments_lexer": "ipython3",
   "version": "3.10.7"
  }
 },
 "nbformat": 4,
 "nbformat_minor": 5
}
