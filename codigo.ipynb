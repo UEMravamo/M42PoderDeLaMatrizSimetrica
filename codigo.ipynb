{
 "cells": [
  {
   "cell_type": "code",
   "execution_count": 8,
   "id": "98ae54a8-9d63-495d-9d65-dae0c653c9bc",
   "metadata": {},
   "outputs": [
    {
     "name": "stdout",
     "output_type": "stream",
     "text": [
      "A:\n",
      "[1, 2, 3]\n",
      "[4, 5, 6]\n",
      "[7, 8, 9]\n",
      "B:\n",
      "[9, 8, 7]\n",
      "[6, 5, 4]\n",
      "[3, 2, 1]\n",
      "AxB:\n",
      "[30, 24, 18]\n",
      "[84, 69, 54]\n",
      "[138, 114, 90]\n"
     ]
    }
   ],
   "source": [
    "#Matrices A y B con misma dimension\n",
    "A = [[1, 2, 3], [4, 5, 6], [7, 8, 9]]\n",
    "B = [[9, 8, 7], [6, 5, 4], [3, 2, 1]]\n",
    "\n",
    "n = len(A)  #Matriz A fila\n",
    "result = [[0] * n for _ in range(n)]  \n",
    "\n",
    "#Multiplicar\n",
    "for i in range(n):\n",
    "    for j in range(n):\n",
    "        suma = 0 \n",
    "        for k in range(n):\n",
    "            suma = suma + A[i][k] * B[k][j]\n",
    "        result[i][j] = suma  \n",
    "\n",
    "#Imprimir resultados\n",
    "print(\"A:\")\n",
    "for row in A:\n",
    "    print(row)\n",
    "\n",
    "print(\"B:\")\n",
    "for row in B:\n",
    "    print(row)\n",
    "\n",
    "print(\"AxB:\")\n",
    "for row in result:\n",
    "    print(row)\n"
   ]
  },
  {
   "cell_type": "code",
   "execution_count": null,
   "id": "0133fffd-6709-4487-bc49-959f996e676a",
   "metadata": {},
   "outputs": [],
   "source": []
  }
 ],
 "metadata": {
  "kernelspec": {
   "display_name": "Python 3 (ipykernel)",
   "language": "python",
   "name": "python3"
  },
  "language_info": {
   "codemirror_mode": {
    "name": "ipython",
    "version": 3
   },
   "file_extension": ".py",
   "mimetype": "text/x-python",
   "name": "python",
   "nbconvert_exporter": "python",
   "pygments_lexer": "ipython3",
   "version": "3.10.7"
  }
 },
 "nbformat": 4,
 "nbformat_minor": 5
}
