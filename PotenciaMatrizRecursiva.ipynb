{
  "nbformat": 4,
  "nbformat_minor": 0,
  "metadata": {
    "colab": {
      "provenance": []
    },
    "kernelspec": {
      "name": "python3",
      "display_name": "Python 3"
    },
    "language_info": {
      "name": "python"
    }
  },
  "cells": [
    {
      "cell_type": "code",
      "execution_count": 6,
      "metadata": {
        "colab": {
          "base_uri": "https://localhost:8080/"
        },
        "id": "AmcI2cn0InRd",
        "outputId": "2cfc1b75-dba9-46da-fb34-ff072bb809c2"
      },
      "outputs": [
        {
          "output_type": "stream",
          "name": "stdout",
          "text": [
            "[46, 5, -35]\n",
            "[5, 6, 5]\n",
            "[-35, 5, 46]\n"
          ]
        }
      ],
      "source": [
        "def multiplicar_matrices(A, B):\n",
        "    \"\"\"\n",
        "    Multiplica dos matrices cuadradas A y B.\n",
        "\n",
        "    Args:\n",
        "        A (list[list[int]]): Primera matriz.\n",
        "        B (list[list[int]]): Segunda matriz.\n",
        "\n",
        "    Returns:\n",
        "        list[list[int]]: Matriz resultante de la multiplicación A x B.\n",
        "    \"\"\"\n",
        "    n = len(A)\n",
        "    resultado = []\n",
        "    for i in range(n):\n",
        "        fila = []\n",
        "        for j in range(n):\n",
        "            suma = sum(A[i][k] * B[k][j] for k in range(n))\n",
        "            fila.append(suma)\n",
        "        resultado.append(fila)\n",
        "    return resultado\n",
        "\n",
        "\n",
        "def matriz_identidad(n):\n",
        "    \"\"\"\n",
        "    Crea una matriz identidad de tamaño n x n.\n",
        "\n",
        "    Args:\n",
        "        n (int): Dimensión de la matriz identidad.\n",
        "\n",
        "    Returns:\n",
        "        list[list[int]]: Matriz identidad.\n",
        "    \"\"\"\n",
        "    identidad = []\n",
        "    for i in range(n):\n",
        "        fila = []\n",
        "        for j in range(n):\n",
        "            if i == j:\n",
        "                fila.append(1)\n",
        "            else:\n",
        "                fila.append(0)\n",
        "        identidad.append(fila)\n",
        "    return identidad\n",
        "\n",
        "\n",
        "def potencia_matrizrecursiva(matriz, exponente):\n",
        "    \"\"\"\n",
        "    Calcula la potencia de una matriz cuadrada usando recursividad.\n",
        "\n",
        "    Args:\n",
        "        matriz (list[list[int]]): Matriz base.\n",
        "        exponente (int): Potencia a la que se eleva la matriz.\n",
        "\n",
        "    Returns:\n",
        "        list[list[int]]: Matriz elevada a la potencia exponente.\n",
        "    \"\"\"\n",
        "    if exponente == 0:\n",
        "        return matriz_identidad(len(matriz))\n",
        "    if exponente == 1:\n",
        "        return matriz\n",
        "\n",
        "\n",
        "    mitad = potencia_matrizrecursiva(matriz, exponente // 2)\n",
        "    mitad_cuadrada = multiplicar_matrices(mitad, mitad)\n",
        "\n",
        "    if exponente % 2 == 0:\n",
        "        return mitad_cuadrada\n",
        "    else:\n",
        "        return multiplicar_matrices(mitad_cuadrada, matriz)\n",
        "\n",
        "\n",
        "# Ejemplo\n",
        "matriz = [\n",
        "    [2, 1, -1],\n",
        "    [1, 0, 1],\n",
        "    [-1, 1, 2]\n",
        "]\n",
        "exponente = 4\n",
        "matriz_potencia = potencia_matrizrecursiva(matriz, exponente)\n",
        "\n",
        "\n",
        "for fila in matriz_potencia:\n",
        "    print(fila)\n"
      ]
    }
  ]
}