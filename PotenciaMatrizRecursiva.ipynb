{
  "nbformat": 4,
  "nbformat_minor": 0,
  "metadata": {
    "colab": {
      "provenance": []
    },
    "kernelspec": {
      "name": "python3",
      "display_name": "Python 3"
    },
    "language_info": {
      "name": "python"
    }
  },
  "cells": [
    {
      "cell_type": "code",
      "execution_count": 3,
      "metadata": {
        "colab": {
          "base_uri": "https://localhost:8080/"
        },
        "id": "AmcI2cn0InRd",
        "outputId": "19cc0e13-5578-4e34-9bd9-428609a6225f"
      },
      "outputs": [
        {
          "output_type": "stream",
          "name": "stdout",
          "text": [
            "[46, 5, -35]\n",
            "[5, 6, 5]\n",
            "[-35, 5, 46]\n"
          ]
        }
      ],
      "source": [
        "def multiplicar_matrices(A, B):\n",
        "    n = len(A)\n",
        "    resultado = []\n",
        "    for i in range(n):\n",
        "        fila = []\n",
        "        for j in range(n):\n",
        "            suma = sum(A[i][k] * B[k][j] for k in range(n))\n",
        "            fila.append(suma)\n",
        "        resultado.append(fila)\n",
        "    return resultado\n",
        "\n",
        "def matriz_identidad(n):\n",
        "    identidad = []\n",
        "    for i in range(n):\n",
        "        fila = []\n",
        "        for j in range(n):\n",
        "            if i == j:\n",
        "                fila.append(1)\n",
        "            else:\n",
        "                fila.append(0)\n",
        "        identidad.append(fila)\n",
        "    return identidad\n",
        "\n",
        "def potencia_matrizrecursiva(matriz, exponente):\n",
        "    if exponente == 0:\n",
        "        return matriz_identidad(len(matriz))\n",
        "    if exponente == 1:\n",
        "        return matriz\n",
        "\n",
        "    mitad = potencia_matrizrecursiva(matriz, exponente // 2)\n",
        "    mitad_cuadrada = multiplicar_matrices(mitad, mitad)\n",
        "\n",
        "    if exponente % 2 == 0:\n",
        "        return mitad_cuadrada\n",
        "    else:\n",
        "        return multiplicar_matrices(mitad_cuadrada, matriz)\n",
        "\n",
        "matriz = [\n",
        "    [2, 1, -1],\n",
        "    [1, 0, 1],\n",
        "    [-1, 1, 2]\n",
        "]\n",
        "exponente = 4\n",
        "matriz_potencia = potencia_matrizrecursiva(matriz, exponente)\n",
        "for fila in matriz_potencia:\n",
        "    print(fila)\n"
      ]
    }
  ]
}