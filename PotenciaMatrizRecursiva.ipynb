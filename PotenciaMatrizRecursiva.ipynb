{
  "nbformat": 4,
  "nbformat_minor": 0,
  "metadata": {
    "colab": {
      "provenance": []
    },
    "kernelspec": {
      "name": "python3",
      "display_name": "Python 3"
    },
    "language_info": {
      "name": "python"
    }
  },
  "cells": [
    {
      "cell_type": "code",
      "execution_count": null,
      "metadata": {
        "colab": {
          "base_uri": "https://localhost:8080/"
        },
        "id": "AmcI2cn0InRd",
        "outputId": "ad4d2867-d7d7-4f6a-f45a-0db3d1db2dcd"
      },
      "outputs": [
        {
          "output_type": "stream",
          "name": "stdout",
          "text": [
            "[911938352592, 486378858923, 655718671939, 475416206036, 238431397742, 758323601550, 624390213368]\n",
            "[521221938112, 414724221021, 474587372297, 31624834419, 278571439923, 685981098101, 698396559016]\n",
            "[656758192300, 83376572517, 268674633880, 828745373239, -119652266456, 20781419696, -226378717044]\n",
            "[1787809235313, 7604997110, 564775520373, 2664134625391, -567996660759, -382837632453, -1174749804956]\n",
            "[-196651669622, 445084970894, 273197910675, -1108776963941, 546654213240, 915097094027, 1258768225955]\n",
            "[-17596129058, 277498340288, 201682481581, -526469329396, 304146213296, 538738005201, 709261198063]\n",
            "[677257575091, 669254660100, 707128147070, -174299328188, 493687072769, 1117381959831, 1218214975700]\n"
          ]
        }
      ],
      "source": [
        "def multiplicar_matrices(A, B):\n",
        "    \"\"\"\n",
        "    Multiplica dos matrices cuadradas A y B.\n",
        "\n",
        "    Args:\n",
        "        A (list[list[int]]): Primera matriz.\n",
        "        B (list[list[int]]): Segunda matriz.\n",
        "\n",
        "    Returns:\n",
        "        list[list[int]]: Matriz resultante de la multiplicación A x B.\n",
        "    \"\"\"\n",
        "    n = len(A)\n",
        "    resultado = []\n",
        "    for i in range(n):\n",
        "        fila = []\n",
        "        for j in range(n):\n",
        "            suma = sum(A[i][k] * B[k][j] for k in range(n))\n",
        "            fila.append(suma)\n",
        "        resultado.append(fila)\n",
        "    return resultado\n",
        "\n",
        "\n",
        "def matriz_identidad(n):\n",
        "    \"\"\"\n",
        "    Crea una matriz identidad de tamaño n x n.\n",
        "\n",
        "    Args:\n",
        "        n (int): Dimensión de la matriz identidad.\n",
        "\n",
        "    Returns:\n",
        "        list[list[int]]: Matriz identidad.\n",
        "    \"\"\"\n",
        "    identidad = []\n",
        "    for i in range(n):\n",
        "        fila = []\n",
        "        for j in range(n):\n",
        "            if i == j:\n",
        "                fila.append(1)\n",
        "            else:\n",
        "                fila.append(0)\n",
        "        identidad.append(fila)\n",
        "    return identidad\n",
        "\n",
        "\n",
        "def potencia_matrizrecursiva(matriz, exponente):\n",
        "    \"\"\"\n",
        "    Calcula la potencia de una matriz cuadrada usando recursividad.\n",
        "\n",
        "    Args:\n",
        "        matriz (list[list[int]]): Matriz base.\n",
        "        exponente (int): Potencia a la que se eleva la matriz.\n",
        "\n",
        "    Returns:\n",
        "        list[list[int]]: Matriz elevada a la potencia exponente.\n",
        "    \"\"\"\n",
        "    if exponente == 0:\n",
        "        return matriz_identidad(len(matriz))\n",
        "    if exponente == 1:\n",
        "        return matriz\n",
        "\n",
        "    # Dividir el problema en dos partes (exponente // 2).\n",
        "    mitad = potencia_matrizrecursiva(matriz, exponente // 2)\n",
        "    mitad_cuadrada = multiplicar_matrices(mitad, mitad)\n",
        "\n",
        "    if exponente % 2 == 0:\n",
        "        # Si el exponente es par, el resultado es mitad_cuadrada.\n",
        "        return mitad_cuadrada\n",
        "    else:\n",
        "        # Si el exponente es impar, se multiplica por la matriz base.\n",
        "        return multiplicar_matrices(mitad_cuadrada, matriz)\n",
        "\n",
        "\n",
        "# Ejemplo\n",
        "matriz = [\n",
        "    [2, 1, -1],\n",
        "    [1, 0, 1],\n",
        "    [-1, 1, 2]\n",
        "]\n",
        "exponente = 4\n",
        "matriz_potencia = potencia_matrizrecursiva(matriz, exponente)\n",
        "\n",
        "\n",
        "for fila in matriz_potencia:\n",
        "    print(fila)\n"
      ]
    }
  ]
}